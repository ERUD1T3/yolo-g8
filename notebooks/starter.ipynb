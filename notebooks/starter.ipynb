{
 "cells": [
  {
   "cell_type": "markdown",
   "source": [
    "# Deep Learning MTH 5320 \n",
    "## Homework 3\n",
    "## 12/1/2023\n",
    "## By Josias Moukpe"
   ],
   "metadata": {
    "collapsed": false
   },
   "id": "9ba81126aaed913f"
  },
  {
   "cell_type": "markdown",
   "source": [
    "## Object Detection Model Assignment\n",
    "\n",
    "### Dataset Prep and Preprocessing (20 points)\n",
    "- Collect or create a dataset of images containing the objects you want to detect annotated with bounding boxes.\n",
    "- Implement data preprocessing techniques, including:\n",
    "  - Resizing images\n",
    "  - Normalizing pixels\n",
    "- Hint: You can find pre-annotated datasets for download on [Roboflow](https://github.com/roboflow/supervision).\n",
    "\n",
    "### Model Architecture (30 points)\n",
    "- Train a YOLOv8 model on your selected dataset using the public repository available at [Ultralytics](https://github.com/ultralytics/ultralytics).\n",
    "- Monitor the training progress and use appropriate techniques to prevent overfitting.\n",
    "- Conduct at least 3 tuning experiments.\n",
    "\n",
    "### Evaluation (20 points)\n",
    "- Evaluate your trained model's performance on a test dataset using mAP (mean Average Precision).\n",
    "- Visualize the model's predictions on sample images.\n",
    "- Analyze the model's performance, discussing any specific failure modes on your test dataset.\n",
    "\n",
    "### BONUS (25 bonus points)\n",
    "- Design and train a custom CNN-based object detection model using a self-designed architecture.\n",
    "- Alternatively, compare several publicly available models on the same dataset.\n",
    "- Consider implementing Gaussian YOLO V8 and comparing it against YOLO V8.\n",
    "\n",
    "Please ensure that your code includes docstrings and type hints as requested, and be thorough in your analysis and experimentation."
   ],
   "metadata": {
    "collapsed": false
   },
   "id": "d5b0040c7ba5685e"
  },
  {
   "cell_type": "markdown",
   "source": [
    "### Setup and Imports"
   ],
   "metadata": {
    "collapsed": false
   },
   "id": "ff2fced5a3fdcef8"
  },
  {
   "cell_type": "code",
   "execution_count": null,
   "id": "initial_id",
   "metadata": {
    "collapsed": true
   },
   "outputs": [],
   "source": [
    "# Import libraries\n",
    "import torch\n",
    "import torchvision\n",
    "import numpy as np\n",
    "\n",
    "# import type hints\n",
    "from typing import Tuple, List, Dict, Union, Any"
   ]
  }
 ],
 "metadata": {
  "kernelspec": {
   "display_name": "Python 3",
   "language": "python",
   "name": "python3"
  },
  "language_info": {
   "codemirror_mode": {
    "name": "ipython",
    "version": 2
   },
   "file_extension": ".py",
   "mimetype": "text/x-python",
   "name": "python",
   "nbconvert_exporter": "python",
   "pygments_lexer": "ipython2",
   "version": "2.7.6"
  }
 },
 "nbformat": 4,
 "nbformat_minor": 5
}
